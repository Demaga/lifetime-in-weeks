{
 "cells": [
  {
   "cell_type": "code",
   "execution_count": null,
   "metadata": {},
   "outputs": [],
   "source": [
    "# Life expectancy data source: OECD (https://www.oecd.org/en/data/indicators/life-expectancy-at-birth.html).\n",
    "# requires pandas, so before executing run `pip install pandas`"
   ]
  },
  {
   "cell_type": "code",
   "execution_count": null,
   "metadata": {},
   "outputs": [],
   "source": [
    "import sys; sys.path.append(\"../\")\n",
    "import os\n",
    "import django\n",
    "os.environ.setdefault(\"DJANGO_SETTINGS_MODULE\", \"lifetime_in_weeks.settings\")\n",
    "django.setup()\n",
    "\n",
    "from datetime import date\n",
    "import pandas as pd\n",
    "pd.set_option(\"display.max_columns\", 50)\n",
    "from lifetime.models import LifetimeExpectancy"
   ]
  },
  {
   "cell_type": "code",
   "execution_count": null,
   "metadata": {},
   "outputs": [],
   "source": [
    "# download from https://www.oecd.org/en/data/indicators/life-expectancy-at-birth.html\n",
    "# or https://data-explorer.oecd.org/vis?lc=en&ac=false&tm=DF_LE&pg=0&snb=1&vw=tb&df[ds]=dsDisseminateFinalDMZ&df[id]=DSD_HEALTH_STAT%40DF_LE&df[ag]=OECD.ELS.HD&df[vs]=&pd=%2C&dq=.A...Y0........&to[TIME_PERIOD]=false\n",
    "oecd = pd.read_csv(\"oecd_life_expectancy.csv\")\n",
    "oecd.head()"
   ]
  },
  {
   "cell_type": "code",
   "execution_count": null,
   "metadata": {},
   "outputs": [],
   "source": [
    "# download from https://www.iso.org/iso-3166-country-codes.html\n",
    "# or https://www.iso.org/obp/ui/#search\n",
    "iso_codes = pd.read_csv(\"iso_codes.csv\")\n",
    "iso_codes.head()"
   ]
  },
  {
   "cell_type": "code",
   "execution_count": null,
   "metadata": {},
   "outputs": [],
   "source": [
    "oecd = oecd[oecd[\"Measure\"] == \"Life expectancy\"]\n",
    "oecd = oecd[oecd[\"AGE\"] == \"Y0\"]\n",
    "oecd = oecd[[\"REF_AREA\", \"SEX\", \"TIME_PERIOD\", \"OBS_VALUE\"]]\n",
    "oecd.head()"
   ]
  },
  {
   "cell_type": "code",
   "execution_count": null,
   "metadata": {},
   "outputs": [],
   "source": [
    "oecd_columns = oecd.columns.tolist()\n",
    "oecd = oecd.merge(iso_codes, left_on=\"REF_AREA\", right_on=\"Alpha-3 code\")\n",
    "oecd = oecd[oecd_columns + [\"Alpha-2 code\"]]\n",
    "oecd.head()"
   ]
  },
  {
   "cell_type": "code",
   "execution_count": null,
   "metadata": {},
   "outputs": [],
   "source": [
    "oecd = oecd.rename(columns={\n",
    "    \"Alpha-2 code\": \"country_code\",\n",
    "    \"SEX\": \"sex\",\n",
    "    \"TIME_PERIOD\": \"year\",\n",
    "    \"OBS_VALUE\": \"life_expectancy\"\n",
    "})\n",
    "oecd = oecd.drop(columns=[\"REF_AREA\"])\n",
    "oecd = oecd[[\"country_code\", \"sex\", \"year\", \"life_expectancy\"]]\n",
    "oecd.head()"
   ]
  },
  {
   "cell_type": "code",
   "execution_count": null,
   "metadata": {},
   "outputs": [],
   "source": [
    "countries = oecd[\"country_code\"].unique().tolist() + [None]\n",
    "sexes = oecd[\"sex\"].unique()\n",
    "years = range(1960, 2024 + 1)\n",
    "index = pd.MultiIndex.from_product(\n",
    "        [countries, sexes, years],\n",
    "        names=[\"country_code\", \"sex\", \"year\"]\n",
    "    )\n",
    "index"
   ]
  },
  {
   "cell_type": "code",
   "execution_count": null,
   "metadata": {},
   "outputs": [],
   "source": [
    "# Reindex the original dataframe\n",
    "oecd = oecd.set_index(['country_code', \"sex\", 'year']).reindex(index)\n",
    "# Reset index to get country and year back as columns\n",
    "oecd = oecd.reset_index()\n",
    "# Group by country and sex and forward fill, then backward fill values\n",
    "oecd['life_expectancy'] = (oecd.groupby(['country_code', \"sex\"])['life_expectancy']).apply(lambda x: x.ffill().bfill()).reset_index().set_index('level_2')[\"life_expectancy\"]\n",
    "oecd.head()"
   ]
  },
  {
   "cell_type": "code",
   "execution_count": null,
   "metadata": {},
   "outputs": [],
   "source": [
    "oecd[oecd[\"country_code\"].isna()]"
   ]
  },
  {
   "cell_type": "code",
   "execution_count": null,
   "metadata": {},
   "outputs": [],
   "source": [
    "# download from https://ourworldindata.org/grapher/life-expectancy?time=1960..latest&country=~OWID_WRL\n",
    "world = pd.read_csv(\"world_life_expectancy.csv\")\n",
    "world.head()"
   ]
  },
  {
   "cell_type": "code",
   "execution_count": null,
   "metadata": {},
   "outputs": [],
   "source": [
    "# download from https://ourworldindata.org/grapher/life-expectation-at-birth-by-sex?time=1960..latest\n",
    "world_by_sex = pd.read_csv(\"wolrd_life_expectancy_by_sex.csv\")\n",
    "world_by_sex.head()"
   ]
  },
  {
   "cell_type": "code",
   "execution_count": null,
   "metadata": {},
   "outputs": [],
   "source": [
    "world = world.merge(world_by_sex, on=\"Year\", suffixes=(\"\", \"_by_sex\"))\n",
    "world"
   ]
  },
  {
   "cell_type": "code",
   "execution_count": null,
   "metadata": {},
   "outputs": [],
   "source": [
    "last_year = world[world[\"Year\"] == world[\"Year\"].max()].iloc[0]\n",
    "this_year = date.today().year\n",
    "for year in range(last_year[\"Year\"] + 1, this_year + 1):\n",
    "    row = last_year.copy()\n",
    "    row[\"Year\"] = year\n",
    "    world.loc[world.index.max() + 1] = row\n",
    "world.tail()"
   ]
  },
  {
   "cell_type": "code",
   "execution_count": null,
   "metadata": {},
   "outputs": [],
   "source": [
    "world = world.rename(columns={\n",
    "    \"Year\": \"year\",\n",
    "    \"Period life expectancy at birth - Sex: all - Age: 0\": \"_T\",\n",
    "    \"Period life expectancy - Sex: female - Age: 0\": \"F\",\n",
    "    \"Period life expectancy - Sex: male - Age: 0\": \"M\"\n",
    "})\n",
    "world = world[[\"year\", \"_T\", \"F\", \"M\"]]\n",
    "world.head()"
   ]
  },
  {
   "cell_type": "code",
   "execution_count": null,
   "metadata": {},
   "outputs": [],
   "source": [
    "_T = world[[\"year\", \"_T\"]]\n",
    "_T[\"country_code\"] = None\n",
    "_T[\"sex\"] = \"_T\"\n",
    "_T = _T.rename(columns={\"_T\": \"life_expectancy\"})\n",
    "_T = _T[[\"country_code\", \"sex\", \"year\", \"life_expectancy\"]]\n",
    "_T"
   ]
  },
  {
   "cell_type": "code",
   "execution_count": null,
   "metadata": {},
   "outputs": [],
   "source": [
    "M = world[[\"year\", \"M\"]]\n",
    "M[\"country_code\"] = None\n",
    "M[\"sex\"] = \"M\"\n",
    "M = M.rename(columns={\"M\": \"life_expectancy\"})\n",
    "M = M[[\"country_code\", \"sex\", \"year\", \"life_expectancy\"]]\n",
    "M"
   ]
  },
  {
   "cell_type": "code",
   "execution_count": null,
   "metadata": {},
   "outputs": [],
   "source": [
    "F = world[[\"year\", \"F\"]]\n",
    "F[\"country_code\"] = None\n",
    "F[\"sex\"] = \"F\"\n",
    "F = F.rename(columns={\"F\": \"life_expectancy\"})\n",
    "F = F[[\"country_code\", \"sex\", \"year\", \"life_expectancy\"]]\n",
    "F"
   ]
  },
  {
   "cell_type": "code",
   "execution_count": null,
   "metadata": {},
   "outputs": [],
   "source": [
    "oecd = pd.concat([oecd, _T, M, F])\n",
    "oecd[\"sex\"] = oecd[\"sex\"].replace(\"_T\", \"O\")\n",
    "oecd"
   ]
  },
  {
   "cell_type": "code",
   "execution_count": null,
   "metadata": {},
   "outputs": [],
   "source": [
    "oecd_dicts = oecd.to_dict(orient=\"records\")"
   ]
  },
  {
   "cell_type": "code",
   "execution_count": null,
   "metadata": {},
   "outputs": [],
   "source": [
    "objects_to_create = [\n",
    "    LifetimeExpectancy(\n",
    "        country=d[\"country_code\"],\n",
    "        sex=d[\"sex\"],\n",
    "        birth_year=d[\"year\"],\n",
    "        life_expectancy=d[\"life_expectancy\"]\n",
    "    ) for d in oecd_dicts \n",
    "]\n",
    "objects_to_create[:5]"
   ]
  },
  {
   "cell_type": "code",
   "execution_count": null,
   "metadata": {},
   "outputs": [],
   "source": [
    "await LifetimeExpectancy.objects.abulk_create(objects_to_create)"
   ]
  },
  {
   "cell_type": "code",
   "execution_count": null,
   "metadata": {},
   "outputs": [],
   "source": [
    "last_obj = await LifetimeExpectancy.objects.alast()\n",
    "last_obj.sex"
   ]
  }
 ],
 "metadata": {
  "kernelspec": {
   "display_name": "lifetime-in-weeks",
   "language": "python",
   "name": "python3"
  },
  "language_info": {
   "codemirror_mode": {
    "name": "ipython",
    "version": 3
   },
   "file_extension": ".py",
   "mimetype": "text/x-python",
   "name": "python",
   "nbconvert_exporter": "python",
   "pygments_lexer": "ipython3",
   "version": "3.12.4"
  }
 },
 "nbformat": 4,
 "nbformat_minor": 2
}
